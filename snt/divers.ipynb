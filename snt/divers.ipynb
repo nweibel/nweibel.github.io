{
 "cells": [
  {
   "cell_type": "code",
   "execution_count": null,
   "metadata": {},
   "outputs": [],
   "source": [
    "def tri_crepes(P):\n",
    "    n = hauteur_pile(P)\n",
    "    for i in range(n - 1):    \n",
    "        j_max = max_pile(P, n - i)\n",
    "        retourner(P, j_max)\n",
    "        retourner(P, n - i)"
   ]
  },
  {
   "cell_type": "code",
   "execution_count": 14,
   "metadata": {},
   "outputs": [],
   "source": [
    "def somme_max(T, i, j):\n",
    "            if i == j == 0:\n",
    "               return T[0][0]\n",
    "            elif i == 0:\n",
    "                return T[0][j] + somme_max(T, 0, j-1)\n",
    "            elif j == 0:\n",
    "                return T[i][0] + somme_max(T, i-1, 0)\n",
    "            else:\n",
    "                return T[i][j] + max(somme_max(T, i-1, j), somme_max(T, i, j-1))"
   ]
  },
  {
   "cell_type": "code",
   "execution_count": 15,
   "metadata": {},
   "outputs": [],
   "source": [
    "T = [[4,1,1,3],[2,0,2,1],[3,1,5,1]]"
   ]
  },
  {
   "cell_type": "code",
   "execution_count": 20,
   "metadata": {},
   "outputs": [
    {
     "data": {
      "text/plain": [
       "10"
      ]
     },
     "execution_count": 20,
     "metadata": {},
     "output_type": "execute_result"
    }
   ],
   "source": [
    "somme_max(T,1,3)"
   ]
  },
  {
   "cell_type": "code",
   "execution_count": 11,
   "metadata": {},
   "outputs": [
    {
     "data": {
      "text/plain": [
       "0"
      ]
     },
     "execution_count": 11,
     "metadata": {},
     "output_type": "execute_result"
    }
   ],
   "source": [
    "2 & 1 "
   ]
  },
  {
   "cell_type": "code",
   "execution_count": 7,
   "metadata": {},
   "outputs": [
    {
     "name": "stdout",
     "output_type": "stream",
     "text": [
      "42\n",
      "1 3 5 7 9 11 13 15 17 19 21 23 25 27 29 31 33 35 37 39 41\n",
      "2 3 6 7 10 11 14 15 18 19 22 23 26 27 30 31 34 35 38 39 42\n",
      "4 5 6 7 12 13 14 15 20 21 22 23 28 29 30 31 36 37 38 39\n",
      "8 9 10 11 12 13 14 15 24 25 26 27 28 29 30 31 40 41 42\n",
      "16 17 18 19 20 21 22 23 24 25 26 27 28 29 30 31\n",
      "32 33 34 35 36 37 38 39 40 41 42\n"
     ]
    }
   ],
   "source": [
    "def tour_de_magie(n):\n",
    "    puissance_max = 1\n",
    "    exposant_max = 0\n",
    "    while puissance_max <= n:\n",
    "        exposant_max += 1\n",
    "        puissance_max *= 2\n",
    "    solution = \"\"\n",
    "    for i in range(0, exposant_max):\n",
    "        ligne = \"\"\n",
    "        for j in range(1, n+1):\n",
    "            k = 2**i\n",
    "            if j & k == k:\n",
    "                ligne = ligne + str(j)+ \" \"\n",
    "        solution = solution + ligne[:-1]\n",
    "        if i<exposant_max-1:\n",
    "            solution = solution + \"\\n\"\n",
    "    return solution\n",
    "        \n",
    "if __name__ == '__main__':\n",
    "    n = int(input())\n",
    "    print(tour_de_magie(n))"
   ]
  },
  {
   "cell_type": "code",
   "execution_count": 11,
   "metadata": {},
   "outputs": [],
   "source": [
    "# valeurs des pièces en centimes\n",
    "\n",
    "def rendu_monnaie(somme_a_rendre):\n",
    "    systeme_monnaie = [200, 100, 50, 20, 10, 5, 2, 1]\n",
    "    liste_pieces = [] #liste vide\n",
    "    indice = 0\n",
    "    while somme_a_rendre > 0:\n",
    "        valeur = systeme_monnaie[indice]\n",
    "        if somme_a_rendre >= valeur:\n",
    "            liste_pieces.append(valeur)\n",
    "            somme_a_rendre = somme_a_rendre - valeur\n",
    "        else:\n",
    "            indice = indice + 1\n",
    "    return len(liste_pieces)"
   ]
  },
  {
   "cell_type": "code",
   "execution_count": 12,
   "metadata": {},
   "outputs": [
    {
     "data": {
      "text/plain": [
       "2"
      ]
     },
     "execution_count": 12,
     "metadata": {},
     "output_type": "execute_result"
    }
   ],
   "source": [
    "rendu_monnaie(55)"
   ]
  },
  {
   "cell_type": "code",
   "execution_count": 16,
   "metadata": {},
   "outputs": [
    {
     "name": "stdout",
     "output_type": "stream",
     "text": [
      "50\n",
      "50\n",
      "0\n"
     ]
    }
   ],
   "source": [
    "\n",
    "def volvian(p, m):\n",
    "    \"\"\"\n",
    "    :param p: Prix de la commande\n",
    "    :type p: int\n",
    "    :param m: Montant payé par le client\n",
    "    :type m: int\n",
    "    \"\"\"\n",
    "    systeme_monnaie = [200, 100, 50, 20, 10, 5, 2, 1]\n",
    "    liste_pieces = [] #liste vide\n",
    "    indice = 0\n",
    "    somme_a_rendre = m - p\n",
    "    while somme_a_rendre > 0:\n",
    "        valeur = systeme_monnaie[indice]\n",
    "        if somme_a_rendre >= valeur:\n",
    "            liste_pieces.append(valeur)\n",
    "            somme_a_rendre = somme_a_rendre - valeur\n",
    "        else:\n",
    "            indice = indice + 1\n",
    "    return len(liste_pieces)\n",
    "\n",
    "if __name__ == '__main__':\n",
    "    p = int(input())\n",
    "    m = int(input())\n",
    "    print(volvian(p, m))\n"
   ]
  },
  {
   "cell_type": "code",
   "execution_count": 1,
   "metadata": {},
   "outputs": [],
   "source": [
    "\n"
   ]
  },
  {
   "cell_type": "code",
   "execution_count": 4,
   "metadata": {},
   "outputs": [
    {
     "data": {
      "text/plain": [
       "[1, 22, 23, 24]"
      ]
     },
     "execution_count": 4,
     "metadata": {},
     "output_type": "execute_result"
    }
   ],
   "source": [
    "from math import factorial\n",
    "[n for n in range(500) if len(str(factorial(n))) == n]"
   ]
  },
  {
   "cell_type": "code",
   "execution_count": 9,
   "metadata": {},
   "outputs": [
    {
     "data": {
      "text/plain": [
       "34"
      ]
     },
     "execution_count": 9,
     "metadata": {},
     "output_type": "execute_result"
    }
   ],
   "source": [
    "len(str(factorial(31)))"
   ]
  },
  {
   "cell_type": "code",
   "execution_count": 37,
   "metadata": {},
   "outputs": [
    {
     "data": {
      "text/plain": [
       "[1, 2, 145, 40585]"
      ]
     },
     "execution_count": 37,
     "metadata": {},
     "output_type": "execute_result"
    }
   ],
   "source": [
    "from math import factorial\n",
    "factorielles = {n:factorial(n) for n in range(10)}\n",
    "def verif(n):\n",
    "    somme = 0\n",
    "    nombre = str(n)\n",
    "    for chiffre in nombre : \n",
    "        somme += factorielles[int(chiffre)]\n",
    "    return n == somme\n",
    "[n for n in range(10000000) if verif(n)]     "
   ]
  },
  {
   "cell_type": "code",
   "execution_count": 11,
   "metadata": {},
   "outputs": [
    {
     "data": {
      "text/plain": [
       "True"
      ]
     },
     "execution_count": 11,
     "metadata": {},
     "output_type": "execute_result"
    }
   ],
   "source": [
    "f(145)"
   ]
  },
  {
   "cell_type": "code",
   "execution_count": 38,
   "metadata": {},
   "outputs": [],
   "source": [
    "def verif2(n):\n",
    "    somme = 0\n",
    "    nombre = str(n)\n",
    "    for chiffre in nombre : \n",
    "        somme += factorielles[int(chiffre)]\n",
    "    return somme"
   ]
  },
  {
   "cell_type": "code",
   "execution_count": 31,
   "metadata": {},
   "outputs": [
    {
     "data": {
      "text/plain": [
       "[1, 2, 145, 40585]"
      ]
     },
     "execution_count": 31,
     "metadata": {},
     "output_type": "execute_result"
    }
   ],
   "source": [
    "[n for n in range(10000000) if verif(n)]"
   ]
  },
  {
   "cell_type": "code",
   "execution_count": 19,
   "metadata": {},
   "outputs": [
    {
     "data": {
      "text/plain": [
       "40730"
      ]
     },
     "execution_count": 19,
     "metadata": {},
     "output_type": "execute_result"
    }
   ],
   "source": [
    "40585+145"
   ]
  },
  {
   "cell_type": "code",
   "execution_count": 45,
   "metadata": {},
   "outputs": [
    {
     "data": {
      "text/plain": [
       "2177280"
      ]
     },
     "execution_count": 45,
     "metadata": {},
     "output_type": "execute_result"
    }
   ],
   "source": [
    "verif2(999999)"
   ]
  },
  {
   "cell_type": "code",
   "execution_count": 35,
   "metadata": {},
   "outputs": [
    {
     "name": "stdout",
     "output_type": "stream",
     "text": [
      "43.6 ns ± 0.622 ns per loop (mean ± std. dev. of 7 runs, 10000000 loops each)\n"
     ]
    }
   ],
   "source": [
    "%%timeit\n",
    "a = factorielles[5]"
   ]
  },
  {
   "cell_type": "code",
   "execution_count": 36,
   "metadata": {},
   "outputs": [
    {
     "name": "stdout",
     "output_type": "stream",
     "text": [
      "59.3 ns ± 0.426 ns per loop (mean ± std. dev. of 7 runs, 10000000 loops each)\n"
     ]
    }
   ],
   "source": [
    "%%timeit\n",
    "a = factorial(5)"
   ]
  },
  {
   "cell_type": "code",
   "execution_count": 11,
   "metadata": {},
   "outputs": [
    {
     "name": "stdout",
     "output_type": "stream",
     "text": [
      "2 3\n",
      "0 3\n"
     ]
    }
   ],
   "source": [
    "x = 0\n",
    "y = 1\n",
    "def f():\n",
    "    x = 2\n",
    "    y = 3\n",
    "    print(x, y)\n",
    "    class C:\n",
    "        print(x, y)\n",
    "        x = 4\n",
    "        \n",
    "f()"
   ]
  },
  {
   "cell_type": "code",
   "execution_count": 5,
   "metadata": {},
   "outputs": [
    {
     "name": "stdout",
     "output_type": "stream",
     "text": [
      "1 1\n",
      "0 1\n",
      "2 1\n",
      "2 1 1\n"
     ]
    }
   ],
   "source": [
    "x = 0\n",
    "y = 0\n",
    "def f():\n",
    "    x = 1\n",
    "    y = 1\n",
    "    print(x, y)\n",
    "    class C:\n",
    "        print(x, y)\n",
    "        x = 2\n",
    "        print(x, y)\n",
    "    print(C.x, x, y)\n",
    " \n",
    "f()"
   ]
  },
  {
   "cell_type": "code",
   "execution_count": null,
   "metadata": {},
   "outputs": [],
   "source": []
  }
 ],
 "metadata": {
  "kernelspec": {
   "display_name": "Python 3",
   "language": "python",
   "name": "python3"
  },
  "language_info": {
   "codemirror_mode": {
    "name": "ipython",
    "version": 3
   },
   "file_extension": ".py",
   "mimetype": "text/x-python",
   "name": "python",
   "nbconvert_exporter": "python",
   "pygments_lexer": "ipython3",
   "version": "3.8.2"
  }
 },
 "nbformat": 4,
 "nbformat_minor": 4
}
