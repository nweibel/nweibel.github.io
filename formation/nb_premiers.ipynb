{
 "cells": [
  {
   "cell_type": "code",
   "execution_count": 1,
   "id": "4417bcc1",
   "metadata": {},
   "outputs": [],
   "source": [
    "def est_premier_1(nombre):\n",
    "    ntest = 2\n",
    "    reponse = True\n",
    "    while ntest < nombre and reponse :\n",
    "        if nombre % ntest == 0 :\n",
    "            reponse = False\n",
    "        ntest = ntest + 1\n",
    "    return reponse"
   ]
  },
  {
   "cell_type": "code",
   "execution_count": 9,
   "id": "eab3177b",
   "metadata": {},
   "outputs": [],
   "source": [
    "def est_premier_2(n):\n",
    "    diviseurs=[]\n",
    "    for i in range(1, n+1):\n",
    "        if n % i == 0:\n",
    "            diviseurs.append(i)\n",
    "    if len(diviseurs) == 2 :\n",
    "        return True\n",
    "    else:\n",
    "        return False"
   ]
  },
  {
   "cell_type": "code",
   "execution_count": 5,
   "id": "2744db9c",
   "metadata": {},
   "outputs": [],
   "source": [
    "def est_multiple(a,b):\n",
    "    return a % b == 0\n",
    "\n",
    "def est_premier_3(n):\n",
    "    for d in range(2, n):\n",
    "        if est_multiple(n, d):\n",
    "            return False\n",
    "    return n>1"
   ]
  },
  {
   "cell_type": "code",
   "execution_count": 13,
   "id": "bbd179a9",
   "metadata": {},
   "outputs": [],
   "source": [
    "from math import sqrt\n",
    "def est_premier_4(n):\n",
    "    if n % 2 == 0:\n",
    "        return False\n",
    "    maxi = int(sqrt(n))\n",
    "    for d in range(3, maxi + 1, 2):\n",
    "        if n % d == 0:\n",
    "            return False\n",
    "    return True"
   ]
  },
  {
   "cell_type": "code",
   "execution_count": 14,
   "id": "e1662584",
   "metadata": {},
   "outputs": [],
   "source": [
    "from time import time\n",
    "def temps_ecoule(n):\n",
    "    debut = time()\n",
    "    resultat = est_premier_4(n)\n",
    "    fin = time()\n",
    "    return fin-debut"
   ]
  },
  {
   "cell_type": "code",
   "execution_count": 25,
   "id": "897d5453",
   "metadata": {},
   "outputs": [
    {
     "data": {
      "text/plain": [
       "0.0002129077911376953"
      ]
     },
     "execution_count": 25,
     "metadata": {},
     "output_type": "execute_result"
    }
   ],
   "source": [
    "temps_ecoule(15485863)"
   ]
  },
  {
   "cell_type": "code",
   "execution_count": 16,
   "id": "0c35bf8f",
   "metadata": {},
   "outputs": [
    {
     "data": {
      "text/plain": [
       "0.0006618499755859375"
      ]
     },
     "execution_count": 16,
     "metadata": {},
     "output_type": "execute_result"
    }
   ],
   "source": [
    "temps_ecoule(179424673)"
   ]
  },
  {
   "cell_type": "code",
   "execution_count": 23,
   "id": "d2fbfd95",
   "metadata": {},
   "outputs": [
    {
     "data": {
      "text/plain": [
       "True"
      ]
     },
     "execution_count": 23,
     "metadata": {},
     "output_type": "execute_result"
    }
   ],
   "source": [
    "est_premier_4(1000999)"
   ]
  },
  {
   "cell_type": "code",
   "execution_count": null,
   "id": "4104c53c",
   "metadata": {},
   "outputs": [],
   "source": []
  }
 ],
 "metadata": {
  "kernelspec": {
   "display_name": "Python 3",
   "language": "python",
   "name": "python3"
  },
  "language_info": {
   "codemirror_mode": {
    "name": "ipython",
    "version": 3
   },
   "file_extension": ".py",
   "mimetype": "text/x-python",
   "name": "python",
   "nbconvert_exporter": "python",
   "pygments_lexer": "ipython3",
   "version": "3.8.2"
  }
 },
 "nbformat": 4,
 "nbformat_minor": 5
}
